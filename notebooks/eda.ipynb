{
 "cells": [
  {
   "cell_type": "code",
   "execution_count": null,
   "id": "3905b1b1",
   "metadata": {
    "vscode": {
     "languageId": "plaintext"
    }
   },
   "outputs": [],
   "source": [
    "# notebooks/eda.ipynb\n",
    "\n",
    "# 1️⃣ Imports\n",
    "import pandas as pd\n",
    "import matplotlib.pyplot as plt\n",
    "import seaborn as sns\n",
    "\n",
    "# 2️⃣ Load processed data\n",
    "df = pd.read_csv(\"../data/processed/processed_matches.csv\")\n",
    "df.head()\n",
    "\n",
    "# 3️⃣ Basic stats\n",
    "print(\"Dataset shape:\", df.shape)\n",
    "print(df.describe())\n",
    "\n",
    "# 4️⃣ Check missing values\n",
    "print(\"Missing values:\\n\", df.isnull().sum())\n",
    "\n",
    "# 5️⃣ Distribution of target variable (final_score)\n",
    "plt.figure(figsize=(8,5))\n",
    "sns.histplot(df['final_score'], bins=10, kde=True)\n",
    "plt.title(\"Distribution of Final Scores\")\n",
    "plt.xlabel(\"Final Score\")\n",
    "plt.ylabel(\"Count\")\n",
    "plt.show()\n",
    "\n",
    "# 6️⃣ Boxplot: Score by venue\n",
    "if 'venue' in df.columns:\n",
    "    plt.figure(figsize=(10,5))\n",
    "    sns.boxplot(x='venue', y='final_score', data=df)\n",
    "    plt.xticks(rotation=45)\n",
    "    plt.title(\"Score distribution by venue\")\n",
    "    plt.show()\n",
    "\n",
    "# 7️⃣ Pairplot of numerical features (optional)\n",
    "num_cols = ['overs_completed', 'runs_so_far', 'wickets_so_far', 'final_score']\n",
    "sns.pairplot(df[num_cols])\n",
    "plt.show()\n",
    "\n",
    "# 8️⃣ Correlation heatmap\n",
    "plt.figure(figsize=(6,5))\n",
    "sns.heatmap(df[num_cols].corr(), annot=True, cmap='coolwarm')\n",
    "plt.title(\"Correlation between numerical features\")\n",
    "plt.show()\n"
   ]
  }
 ],
 "metadata": {
  "language_info": {
   "name": "python"
  }
 },
 "nbformat": 4,
 "nbformat_minor": 5
}
